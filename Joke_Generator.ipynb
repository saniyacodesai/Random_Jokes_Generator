{
  "nbformat": 4,
  "nbformat_minor": 0,
  "metadata": {
    "colab": {
      "provenance": [],
      "toc_visible": true
    },
    "kernelspec": {
      "name": "python3",
      "display_name": "Python 3"
    },
    "language_info": {
      "name": "python"
    }
  },
  "cells": [
    {
      "cell_type": "code",
      "execution_count": 1,
      "metadata": {
        "colab": {
          "base_uri": "https://localhost:8080/"
        },
        "id": "DdjeNymaAXb4",
        "outputId": "8da4f430-ccf3-41b9-bf54-5567bece0d6a"
      },
      "outputs": [
        {
          "output_type": "stream",
          "name": "stdout",
          "text": [
            "😂 Welcome to the Random Joke Generator!\n",
            "📡 Sending request to the API...\n",
            "✅ Status Code: 200\n",
            "\n",
            "Here's your joke: How do robots eat guacamole? With computer chips.\n",
            "\n"
          ]
        }
      ],
      "source": [
        "import requests\n",
        "\n",
        "print(\"😂 Welcome to the Random Joke Generator!\")\n",
        "\n",
        "url = \"https://icanhazdadjoke.com/\"\n",
        "headers = {\"Accept\": \"application/json\"}\n",
        "\n",
        "print(\"📡 Sending request to the API...\")\n",
        "\n",
        "try:\n",
        "    response = requests.get(url, headers=headers)\n",
        "    print(f\"✅ Status Code: {response.status_code}\")\n",
        "\n",
        "    if response.status_code == 200:\n",
        "        data = response.json()\n",
        "        print(f\"\\nHere's your joke: {data['joke']}\\n\")\n",
        "    else:\n",
        "        print(\"❌ Failed to fetch a joke. API might be down.\")\n",
        "except requests.exceptions.RequestException as e:\n",
        "    print(f\"🌐 Network error: {e}\")"
      ]
    }
  ]
}
